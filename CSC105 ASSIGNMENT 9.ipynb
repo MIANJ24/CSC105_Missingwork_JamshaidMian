{
 "cells": [
  {
   "cell_type": "code",
   "execution_count": 2,
   "id": "85947ed0",
   "metadata": {},
   "outputs": [],
   "source": [
    "import pandas as pd\n",
    "df = pd.read_csv('healthcare_data.csv')"
   ]
  },
  {
   "cell_type": "code",
   "execution_count": 11,
   "id": "17b9b8b2",
   "metadata": {},
   "outputs": [
    {
     "data": {
      "image/png": "[encoded data removed]",
      "text/plain": [
       "<Figure size 640x480 with 1 Axes>"
      ]
     },
     "metadata": {},
     "output_type": "display_data"
    }
   ],
   "source": [
    "import matplotlib.pyplot as plt\n",
    "\n",
    "plt.hist(df['Age'], bins=20)\n",
    "plt.xlabel('Age')\n",
    "plt.ylabel('Count')\n",
    "plt.title('Distribution of Patient Ages')\n",
    "plt.show()"
   ]
  },
  {
   "cell_type": "code",
   "execution_count": 12,
   "id": "cda9ad9b",
   "metadata": {},
   "outputs": [
    {
     "name": "stdout",
     "output_type": "stream",
     "text": [
      "The percentage of male patients is 50.0%\n"
     ]
    }
   ],
   "source": [
    "male_count = df['Gender'].value_counts().loc['Male']\n",
    "male_percentage = male_count / len(df) * 100\n",
    "print(f'The percentage of male patients is {male_percentage}%')"
   ]
  },
  {
   "cell_type": "code",
   "execution_count": 15,
   "id": "7f57dc52",
   "metadata": {},
   "outputs": [
    {
     "name": "stdout",
     "output_type": "stream",
     "text": [
      "There are 10 patients with Cancer\n"
     ]
    }
   ],
   "source": [
    "cancer_count = df['Diagnosis'].value_counts().loc['Cancer']\n",
    "print(f'There are {cancer_count} patients with Cancer')"
   ]
  },
  {
   "cell_type": "code",
   "execution_count": 16,
   "id": "1bc1e77d",
   "metadata": {},
   "outputs": [
    {
     "name": "stdout",
     "output_type": "stream",
     "text": [
      "The average treatment cost for patients aged 60 and above is 2344.59\n"
     ]
    }
   ],
   "source": [
    "aged_60_plus = df[df['Age'] >= 60]\n",
    "avg_treatment_cost = aged_60_plus['Treatment_Cost'].mean()\n",
    "print(f'The average treatment cost for patients aged 60 and above is {avg_treatment_cost:.2f}')"
   ]
  },
  {
   "cell_type": "code",
   "execution_count": 17,
   "id": "3b146dc1",
   "metadata": {},
   "outputs": [
    {
     "name": "stdout",
     "output_type": "stream",
     "text": [
      "Blood_Type\n",
      "A+     3594.500000\n",
      "A-     1470.300000\n",
      "AB+    2232.687500\n",
      "AB-    1923.833333\n",
      "B+      860.250000\n",
      "B-      860.750000\n",
      "O+     2870.125000\n",
      "O-     1935.250000\n",
      "Name: Treatment_Cost, dtype: float64\n"
     ]
    }
   ],
   "source": [
    "blood_type_groups = df.groupby('Blood_Type')['Treatment_Cost'].mean()\n",
    "print(blood_type_groups)"
   ]
  },
  {
   "cell_type": "code",
   "execution_count": 23,
   "id": "6b514b24",
   "metadata": {},
   "outputs": [
    {
     "name": "stdout",
     "output_type": "stream",
     "text": [
      "The blood type with the highest average treatment cost is A+\n"
     ]
    }
   ],
   "source": [
    "import numpy as np\n",
    "\n",
    "avg_costs = df.groupby('Blood_Type')['Treatment_Cost'].mean()\n",
    "max_index = np.argmax(avg_costs)\n",
    "print(f'The blood type with the highest average treatment cost is {df[\"Blood_Type\"][max_index]}')"
   ]
  },
  {
   "cell_type": "code",
   "execution_count": 29,
   "id": "7f635382",
   "metadata": {},
   "outputs": [
    {
     "name": "stdout",
     "output_type": "stream",
     "text": [
      "Gender  Diagnosis    \n",
      "Female  Asthma           47.666667\n",
      "        Cancer           55.333333\n",
      "        Diabetes         54.400000\n",
      "        Heart Disease    57.750000\n",
      "        Hypertension     45.250000\n",
      "Male    Asthma           49.000000\n",
      "        Cancer           44.500000\n",
      "        Diabetes         52.000000\n",
      "        Heart Disease    54.666667\n",
      "        Hypertension     39.166667\n",
      "Name: Age, dtype: float64\n"
     ]
    }
   ],
   "source": [
    "gender_diagnosis_groups = df.groupby(['Gender', 'Diagnosis'])\n",
    "avg_ages = gender_diagnosis_groups['Age'].mean()\n",
    "print(avg_ages)"
   ]
  }
 ],
 "metadata": {
  "kernelspec": {
   "display_name": "Python 3 (ipykernel)",
   "language": "python",
   "name": "python3"
  },
  "language_info": {
   "codemirror_mode": {
    "name": "ipython",
    "version": 3
   },
   "file_extension": ".py",
   "mimetype": "text/x-python",
   "name": "python",
   "nbconvert_exporter": "python",
   "pygments_lexer": "ipython3",
   "version": "3.11.4"
  }
 },
 "nbformat": 4,
 "nbformat_minor": 5
}
