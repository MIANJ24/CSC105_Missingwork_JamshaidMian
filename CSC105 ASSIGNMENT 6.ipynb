{
 "cells": [
  {
   "cell_type": "code",
   "execution_count": 1,
   "id": "1ab6a229",
   "metadata": {},
   "outputs": [],
   "source": [
    "import pandas as pd\n",
    "df = pd.read_csv('job_postings.csv')"
   ]
  },
  {
   "cell_type": "code",
   "execution_count": 2,
   "id": "93aecbc2",
   "metadata": {},
   "outputs": [
    {
     "name": "stdout",
     "output_type": "stream",
     "text": [
      "<class 'pandas.core.frame.DataFrame'>\n",
      "RangeIndex: 15886 entries, 0 to 15885\n",
      "Data columns (total 27 columns):\n",
      " #   Column                      Non-Null Count  Dtype  \n",
      "---  ------                      --------------  -----  \n",
      " 0   job_id                      15886 non-null  int64  \n",
      " 1   company_id                  15520 non-null  float64\n",
      " 2   title                       15886 non-null  object \n",
      " 3   description                 15885 non-null  object \n",
      " 4   max_salary                  5521 non-null   float64\n",
      " 5   med_salary                  981 non-null    float64\n",
      " 6   min_salary                  5521 non-null   float64\n",
      " 7   pay_period                  6502 non-null   object \n",
      " 8   formatted_work_type         15886 non-null  object \n",
      " 9   location                    15886 non-null  object \n",
      " 10  applies                     8700 non-null   float64\n",
      " 11  original_listed_time        15886 non-null  int64  \n",
      " 12  remote_allowed              2340 non-null   float64\n",
      " 13  views                       13123 non-null  float64\n",
      " 14  job_posting_url             15886 non-null  object \n",
      " 15  application_url             9795 non-null   object \n",
      " 16  application_type            15886 non-null  object \n",
      " 17  expiry                      15886 non-null  int64  \n",
      " 18  closed_time                 928 non-null    float64\n",
      " 19  formatted_experience_level  10984 non-null  object \n",
      " 20  skills_desc                 144 non-null    object \n",
      " 21  listed_time                 15886 non-null  int64  \n",
      " 22  posting_domain              9044 non-null   object \n",
      " 23  sponsored                   15886 non-null  int64  \n",
      " 24  work_type                   15886 non-null  object \n",
      " 25  currency                    6502 non-null   object \n",
      " 26  compensation_type           6502 non-null   object \n",
      "dtypes: float64(8), int64(5), object(14)\n",
      "memory usage: 3.3+ MB\n"
     ]
    }
   ],
   "source": [
    "df.head()\n",
    "df.columns\n",
    "df.info()"
   ]
  },
  {
   "cell_type": "code",
   "execution_count": 6,
   "id": "a2f7e01d",
   "metadata": {},
   "outputs": [],
   "source": [
    "df2 = df[['title', 'min_salary', 'location']]"
   ]
  },
  {
   "cell_type": "code",
   "execution_count": 7,
   "id": "c6444655",
   "metadata": {},
   "outputs": [
    {
     "name": "stdout",
     "output_type": "stream",
     "text": [
      "(64, 3)\n"
     ]
    }
   ],
   "source": [
    "df3 = df2[df2['title'] == 'Sales Associate']\n",
    "print(df3.shape)"
   ]
  },
  {
   "cell_type": "code",
   "execution_count": 8,
   "id": "1bf3f2ac",
   "metadata": {},
   "outputs": [
    {
     "name": "stdout",
     "output_type": "stream",
     "text": [
      "54\n",
      "64\n"
     ]
    }
   ],
   "source": [
    "missing_salary_count = df3['min_salary'].isnull().sum()\n",
    "print(missing_salary_count)\n",
    "print(df3.shape[0])"
   ]
  },
  {
   "cell_type": "code",
   "execution_count": 10,
   "id": "23fb2e67",
   "metadata": {},
   "outputs": [
    {
     "data": {
      "text/plain": [
       "84.375"
      ]
     },
     "execution_count": 10,
     "metadata": {},
     "output_type": "execute_result"
    }
   ],
   "source": [
    "(missing_salary_count / df3.shape[0]) * 100"
   ]
  },
  {
   "cell_type": "code",
   "execution_count": 11,
   "id": "a8c1fe6d",
   "metadata": {},
   "outputs": [],
   "source": [
    "df3 = df3.dropna(subset=['min_salary'])"
   ]
  },
  {
   "cell_type": "code",
   "execution_count": 13,
   "id": "18d07e1f",
   "metadata": {},
   "outputs": [],
   "source": [
    "df4 = df3[df3['min_salary'] > 20000]"
   ]
  },
  {
   "cell_type": "code",
   "execution_count": 14,
   "id": "dd1e98dd",
   "metadata": {},
   "outputs": [
    {
     "name": "stdout",
     "output_type": "stream",
     "text": [
      "50000.0\n"
     ]
    }
   ],
   "source": [
    "min_salary_raleigh = df4[df4['location'] == 'Raleigh, NC']['min_salary'].min()\n",
    "print(min_salary_raleigh)"
   ]
  },
  {
   "cell_type": "code",
   "execution_count": null,
   "id": "7267b105",
   "metadata": {},
   "outputs": [],
   "source": []
  }
 ],
 "metadata": {
  "kernelspec": {
   "display_name": "Python 3 (ipykernel)",
   "language": "python",
   "name": "python3"
  },
  "language_info": {
   "codemirror_mode": {
    "name": "ipython",
    "version": 3
   },
   "file_extension": ".py",
   "mimetype": "text/x-python",
   "name": "python",
   "nbconvert_exporter": "python",
   "pygments_lexer": "ipython3",
   "version": "3.11.4"
  }
 },
 "nbformat": 4,
 "nbformat_minor": 5
}
