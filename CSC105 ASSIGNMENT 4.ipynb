{
 "cells": [
  {
   "cell_type": "code",
   "execution_count": 1,
   "id": "20c830a0",
   "metadata": {},
   "outputs": [],
   "source": [
    "import pandas as pd\n",
    "df = pd.read_csv('travel_tourism_dataset.csv')"
   ]
  },
  {
   "cell_type": "code",
   "execution_count": 3,
   "id": "8b6331ca",
   "metadata": {},
   "outputs": [
    {
     "name": "stdout",
     "output_type": "stream",
     "text": [
      "Number of observations: 3000\n",
      "Number of columns: 13\n"
     ]
    }
   ],
   "source": [
    "num_observations = len(df)\n",
    "num_columns = len(df.columns)\n",
    "print(\"Number of observations:\", num_observations)\n",
    "print(\"Number of columns:\", num_columns)"
   ]
  },
  {
   "cell_type": "code",
   "execution_count": 4,
   "id": "4006b505",
   "metadata": {},
   "outputs": [
    {
     "name": "stdout",
     "output_type": "stream",
     "text": [
      "Number of tourists under the age of 30 (Group A): 598\n"
     ]
    }
   ],
   "source": [
    "df2 = df[df['Age'] < 30]\n",
    "num_tourists_group_a = len(df2)\n",
    "print(\"Number of tourists under the age of 30 (Group A):\", num_tourists_group_a)"
   ]
  },
  {
   "cell_type": "code",
   "execution_count": 8,
   "id": "551bfcf4",
   "metadata": {},
   "outputs": [
    {
     "name": "stdout",
     "output_type": "stream",
     "text": [
      "Number of tourists under the age of 30 who stayed in a hotel (Group B): 146\n"
     ]
    }
   ],
   "source": [
    "df3 = df[(df['Age'] < 30) & (df['Stay'].str.contains('hotel', case=False, na=False))]\n",
    "num_tourists_group_b = len(df3)\n",
    "print(\"Number of tourists under the age of 30 who stayed in a hotel (Group B):\", num_tourists_group_b)"
   ]
  },
  {
   "cell_type": "code",
   "execution_count": 10,
   "id": "24ef7290",
   "metadata": {},
   "outputs": [
    {
     "name": "stdout",
     "output_type": "stream",
     "text": [
      "Number of tourists under the age of 30 who stayed in a hotel and had a cost of travel less than $6000 (Group C): 6\n"
     ]
    }
   ],
   "source": [
    "df4 = df[(df['Age'] < 30) & (df['Stay'].str.contains('hotel', case=False, na=False)) & (df['Cost of Travel(Entire Trip)'] < 6000)]\n",
    "num_tourists_group_c = len(df4)\n",
    "print(\"Number of tourists under the age of 30 who stayed in a hotel and had a cost of travel less than $6000 (Group C):\", num_tourists_group_c)"
   ]
  },
  {
   "cell_type": "code",
   "execution_count": 11,
   "id": "59d74b2d",
   "metadata": {},
   "outputs": [
    {
     "name": "stdout",
     "output_type": "stream",
     "text": [
      "Name of the tourist from China in Group C: Jennifer Miller\n"
     ]
    }
   ],
   "source": [
    "df5 = df4[df4['Nationality'] == 'China']\n",
    "chinese_tourist_name = df5['First Name'].iloc[0] + \" \" + df5['Last Name'].iloc[0]\n",
    "print(\"Name of the tourist from China in Group C:\", chinese_tourist_name)"
   ]
  }
 ],
 "metadata": {
  "kernelspec": {
   "display_name": "Python 3 (ipykernel)",
   "language": "python",
   "name": "python3"
  },
  "language_info": {
   "codemirror_mode": {
    "name": "ipython",
    "version": 3
   },
   "file_extension": ".py",
   "mimetype": "text/x-python",
   "name": "python",
   "nbconvert_exporter": "python",
   "pygments_lexer": "ipython3",
   "version": "3.11.4"
  }
 },
 "nbformat": 4,
 "nbformat_minor": 5
}
