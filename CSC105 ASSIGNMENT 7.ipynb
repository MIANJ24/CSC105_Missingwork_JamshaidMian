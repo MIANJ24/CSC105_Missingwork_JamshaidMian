{
 "cells": [
  {
   "cell_type": "code",
   "execution_count": 2,
   "id": "0d899cd5",
   "metadata": {},
   "outputs": [],
   "source": [
    "import pandas as pd"
   ]
  },
  {
   "cell_type": "code",
   "execution_count": 3,
   "id": "fb2a1762",
   "metadata": {},
   "outputs": [],
   "source": [
    "df = pd.read_csv('titanic_data.csv')"
   ]
  },
  {
   "cell_type": "code",
   "execution_count": 4,
   "id": "e45d519d",
   "metadata": {},
   "outputs": [],
   "source": [
    "df = df.dropna()"
   ]
  },
  {
   "cell_type": "code",
   "execution_count": 5,
   "id": "8b7b4a51",
   "metadata": {},
   "outputs": [
    {
     "name": "stdout",
     "output_type": "stream",
     "text": [
      "    survived  pclass     sex   age  sibsp  parch     fare embarked  class  \\\n",
      "1          1       1  female  38.0      1      0  71.2833        C  First   \n",
      "3          1       1  female  35.0      1      0  53.1000        S  First   \n",
      "6          0       1    male  54.0      0      0  51.8625        S  First   \n",
      "10         1       3  female   4.0      1      1  16.7000        S  Third   \n",
      "11         1       1  female  58.0      0      0  26.5500        S  First   \n",
      "\n",
      "      who  adult_male deck  embark_town alive  alone  \n",
      "1   woman       False    C    Cherbourg   yes  False  \n",
      "3   woman       False    C  Southampton   yes  False  \n",
      "6     man        True    E  Southampton    no   True  \n",
      "10  child       False    G  Southampton   yes  False  \n",
      "11  woman       False    C  Southampton   yes   True  \n"
     ]
    }
   ],
   "source": [
    "print(df.head())"
   ]
  },
  {
   "cell_type": "code",
   "execution_count": 6,
   "id": "ff128fd6",
   "metadata": {},
   "outputs": [
    {
     "name": "stdout",
     "output_type": "stream",
     "text": [
      "Dimension of the dataframe: (182, 15)\n"
     ]
    }
   ],
   "source": [
    "print(f\"Dimension of the dataframe: {df.shape}\")"
   ]
  },
  {
   "cell_type": "code",
   "execution_count": 7,
   "id": "8e9a23cd",
   "metadata": {},
   "outputs": [
    {
     "name": "stdout",
     "output_type": "stream",
     "text": [
      "Column names: Index(['survived', 'pclass', 'sex', 'age', 'sibsp', 'parch', 'fare',\n",
      "       'embarked', 'class', 'who', 'adult_male', 'deck', 'embark_town',\n",
      "       'alive', 'alone'],\n",
      "      dtype='object')\n"
     ]
    }
   ],
   "source": [
    "print(f\"Column names: {df.columns}\")"
   ]
  },
  {
   "cell_type": "code",
   "execution_count": 9,
   "id": "4730dc0b",
   "metadata": {},
   "outputs": [
    {
     "name": "stdout",
     "output_type": "stream",
     "text": [
      "pclass\n",
      "1    106\n",
      "2     12\n",
      "3      5\n",
      "Name: survived, dtype: int64\n"
     ]
    }
   ],
   "source": [
    "survived_by_class = df.groupby(['pclass'])['survived'].sum()\n",
    "print(survived_by_class)"
   ]
  },
  {
   "cell_type": "code",
   "execution_count": 10,
   "id": "f864fae0",
   "metadata": {},
   "outputs": [
    {
     "name": "stdout",
     "output_type": "stream",
     "text": [
      "embark_town\n",
      "Cherbourg      103.342503\n",
      "Queenstown      90.000000\n",
      "Southampton     64.922862\n",
      "Name: fare, dtype: float64\n"
     ]
    }
   ],
   "source": [
    "average_fare_by_town = df.groupby(['embark_town'])['fare'].mean()\n",
    "print(average_fare_by_town)"
   ]
  },
  {
   "cell_type": "code",
   "execution_count": 11,
   "id": "aa3f0377",
   "metadata": {},
   "outputs": [
    {
     "name": "stdout",
     "output_type": "stream",
     "text": [
      "embark_town  sex   \n",
      "Cherbourg    female    104.169609\n",
      "             male      102.435355\n",
      "Queenstown   female     90.000000\n",
      "             male       90.000000\n",
      "Southampton  female     79.251179\n",
      "             male       52.674461\n",
      "Name: fare, dtype: float64\n"
     ]
    }
   ],
   "source": [
    "average_fare_by_gender_and_town = df.groupby(['embark_town', 'sex'])['fare'].mean()\n",
    "print(average_fare_by_gender_and_town)"
   ]
  },
  {
   "cell_type": "code",
   "execution_count": 12,
   "id": "b18c9440",
   "metadata": {},
   "outputs": [
    {
     "name": "stdout",
     "output_type": "stream",
     "text": [
      "                          fare        age\n",
      "embark_town sex                          \n",
      "Cherbourg   female  104.169609  35.352941\n",
      "            male    102.435355  39.774194\n",
      "Queenstown  female   90.000000  33.000000\n",
      "            male     90.000000  44.000000\n",
      "Southampton female   79.251179  30.952830\n",
      "            male     52.674461  37.595484\n"
     ]
    }
   ],
   "source": [
    "average_fare_and_age_by_gender_and_town = df.groupby(['embark_town', 'sex'])[['fare', 'age']].mean()\n",
    "print(average_fare_and_age_by_gender_and_town)"
   ]
  },
  {
   "cell_type": "code",
   "execution_count": null,
   "id": "a93895a4",
   "metadata": {},
   "outputs": [],
   "source": []
  }
 ],
 "metadata": {
  "kernelspec": {
   "display_name": "Python 3 (ipykernel)",
   "language": "python",
   "name": "python3"
  },
  "language_info": {
   "codemirror_mode": {
    "name": "ipython",
    "version": 3
   },
   "file_extension": ".py",
   "mimetype": "text/x-python",
   "name": "python",
   "nbconvert_exporter": "python",
   "pygments_lexer": "ipython3",
   "version": "3.11.4"
  }
 },
 "nbformat": 4,
 "nbformat_minor": 5
}
